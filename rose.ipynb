{
 "cells": [
  {
   "cell_type": "markdown",
   "metadata": {},
   "source": [
    "# Setup"
   ]
  },
  {
   "cell_type": "code",
   "execution_count": 1,
   "metadata": {
    "execution": {
     "iopub.execute_input": "2025-03-21T05:33:56.219900Z",
     "iopub.status.busy": "2025-03-21T05:33:56.219165Z",
     "iopub.status.idle": "2025-03-21T05:33:56.225973Z",
     "shell.execute_reply": "2025-03-21T05:33:56.224579Z",
     "shell.execute_reply.started": "2025-03-21T05:33:56.219862Z"
    }
   },
   "outputs": [
    {
     "name": "stderr",
     "output_type": "stream",
     "text": [
      "/usr/local/lib/python3.10/dist-packages/torchvision/io/image.py:13: UserWarning: Failed to load image Python extension: '/usr/local/lib/python3.10/dist-packages/torchvision/image.so: undefined symbol: _ZN3c1017RegisterOperatorsD1Ev'If you don't plan on using image functionality from `torchvision.io`, you can ignore this warning. Otherwise, there might be something wrong with your environment. Did you have `libjpeg` or `libpng` installed before building `torchvision` from source?\n",
      "  warn(\n"
     ]
    }
   ],
   "source": [
    "import os\n",
    "import torch\n",
    "import torch.nn as nn\n",
    "import numpy as np\n",
    "from torchvision import datasets, transforms, models\n",
    "from torch.utils.data import DataLoader, random_split, Subset\n",
    "from sklearn.utils.class_weight import compute_class_weight\n",
    "from sklearn.metrics import accuracy_score, classification_report, confusion_matrix\n",
    "from torch.cuda.amp import GradScaler, autocast\n",
    "from torch.optim import AdamW\n",
    "from torch.optim.lr_scheduler import CosineAnnealingWarmRestarts\n",
    "from torch.nn.functional import softmax\n",
    "import random\n",
    "\n",
    "device = torch.device('cuda' if torch.cuda.is_available() else 'cpu')"
   ]
  },
  {
   "cell_type": "markdown",
   "metadata": {},
   "source": [
    "# Data Loader"
   ]
  },
  {
   "cell_type": "code",
   "execution_count": 2,
   "metadata": {
    "execution": {
     "iopub.execute_input": "2025-03-21T05:33:58.674714Z",
     "iopub.status.busy": "2025-03-21T05:33:58.674243Z",
     "iopub.status.idle": "2025-03-21T05:33:58.680649Z",
     "shell.execute_reply": "2025-03-21T05:33:58.679425Z",
     "shell.execute_reply.started": "2025-03-21T05:33:58.674673Z"
    }
   },
   "outputs": [],
   "source": [
    "# Transforms\n",
    "transform_inception = transforms.Compose([\n",
    "    transforms.Resize(320),\n",
    "    transforms.RandomResizedCrop(299),\n",
    "    transforms.RandomHorizontalFlip(),\n",
    "    transforms.RandomVerticalFlip(),\n",
    "    transforms.RandomRotation(15),\n",
    "    transforms.ColorJitter(brightness=0.2, contrast=0.2, saturation=0.2),\n",
    "    transforms.RandomAffine(degrees=15, translate=(0.1, 0.1)),\n",
    "    transforms.ToTensor(),\n",
    "    transforms.Normalize(mean=[0.485, 0.456, 0.406], std=[0.229, 0.224, 0.225])\n",
    "])\n",
    "\n",
    "transform_vit = transforms.Compose([\n",
    "    transforms.Resize(256),\n",
    "    transforms.RandomResizedCrop(224),\n",
    "    transforms.RandomHorizontalFlip(),\n",
    "    transforms.RandomVerticalFlip(),\n",
    "    transforms.RandomRotation(15),\n",
    "    transforms.ColorJitter(brightness=0.2, contrast=0.2, saturation=0.2),\n",
    "    transforms.RandomAffine(degrees=15, translate=(0.1, 0.1)),\n",
    "    transforms.ToTensor(),\n",
    "    transforms.Normalize(mean=[0.485, 0.456, 0.406], std=[0.229, 0.224, 0.225])\n",
    "])"
   ]
  },
  {
   "cell_type": "code",
   "execution_count": 5,
   "metadata": {
    "execution": {
     "iopub.execute_input": "2025-03-21T05:34:00.943208Z",
     "iopub.status.busy": "2025-03-21T05:34:00.942777Z",
     "iopub.status.idle": "2025-03-21T05:34:00.948682Z",
     "shell.execute_reply": "2025-03-21T05:34:00.947323Z",
     "shell.execute_reply.started": "2025-03-21T05:34:00.943178Z"
    }
   },
   "outputs": [],
   "source": [
    "# Paths\n",
    "data_dir = './rose-leaf-disease-dataset/Rose'\n",
    "train_dir = os.path.join(data_dir, 'train')\n",
    "\n",
    "# Full datasets\n",
    "full_dataset_incep = datasets.ImageFolder(train_dir, transform=transform_inception)\n",
    "full_dataset_vit = datasets.ImageFolder(train_dir, transform=transform_vit)\n",
    "\n",
    "# Shared split\n",
    "dataset_size = len(full_dataset_incep)\n",
    "train_size = int(0.8 * dataset_size)\n",
    "val_size = dataset_size - train_size\n",
    "indices = torch.randperm(dataset_size)\n",
    "train_indices, val_indices = indices[:train_size], indices[train_size:]\n",
    "\n",
    "# Subsets\n",
    "train_dataset_incep = Subset(full_dataset_incep, train_indices)\n",
    "val_dataset_incep = Subset(full_dataset_incep, val_indices)\n",
    "\n",
    "train_dataset_vit = Subset(full_dataset_vit, train_indices)\n",
    "val_dataset_vit = Subset(full_dataset_vit, val_indices)\n",
    "\n",
    "# Dataloaders\n",
    "train_loader_incep = DataLoader(train_dataset_incep, batch_size=32, shuffle=True)\n",
    "val_loader_incep = DataLoader(val_dataset_incep, batch_size=32, shuffle=False)\n",
    "\n",
    "train_loader_vit = DataLoader(train_dataset_vit, batch_size=32, shuffle=True)\n",
    "val_loader_vit = DataLoader(val_dataset_vit, batch_size=32, shuffle=False)"
   ]
  },
  {
   "cell_type": "code",
   "execution_count": 6,
   "metadata": {
    "execution": {
     "iopub.execute_input": "2025-03-21T05:34:03.275369Z",
     "iopub.status.busy": "2025-03-21T05:34:03.274928Z",
     "iopub.status.idle": "2025-03-21T05:34:09.037463Z",
     "shell.execute_reply": "2025-03-21T05:34:09.036163Z",
     "shell.execute_reply.started": "2025-03-21T05:34:03.275338Z"
    }
   },
   "outputs": [],
   "source": [
    "# Class weights\n",
    "labels = [y for _, y in full_dataset_incep]\n",
    "class_weights = compute_class_weight(class_weight='balanced', classes=np.unique(labels), y=labels)\n",
    "class_weights = torch.tensor(class_weights, dtype=torch.float).to(device)\n",
    "\n",
    "# Number of classes\n",
    "num_classes = len(full_dataset_incep.classes)"
   ]
  },
  {
   "cell_type": "markdown",
   "metadata": {},
   "source": [
    "# Inception V3"
   ]
  },
  {
   "cell_type": "code",
   "execution_count": 7,
   "metadata": {},
   "outputs": [
    {
     "name": "stdout",
     "output_type": "stream",
     "text": [
      "Downloading: \"https://download.pytorch.org/models/inception_v3_google-0cc3c7bd.pth\" to /home/hice1/slee3593/.cache/torch/hub/checkpoints/inception_v3_google-0cc3c7bd.pth\n"
     ]
    },
    {
     "name": "stderr",
     "output_type": "stream",
     "text": [
      "100%|██████████| 104M/104M [00:03<00:00, 34.5MB/s] \n",
      "/tmp/ipykernel_939252/4132711617.py:9: FutureWarning: `torch.cuda.amp.GradScaler(args...)` is deprecated. Please use `torch.amp.GradScaler('cuda', args...)` instead.\n",
      "  scaler_incep = GradScaler()\n",
      "/tmp/ipykernel_939252/4132711617.py:19: FutureWarning: `torch.cuda.amp.autocast(args...)` is deprecated. Please use `torch.amp.autocast('cuda', args...)` instead.\n",
      "  with autocast():\n"
     ]
    },
    {
     "name": "stdout",
     "output_type": "stream",
     "text": [
      "[Inception] Epoch 1/30 | Train Loss: 0.4161 | Val Acc: 0.8265\n"
     ]
    },
    {
     "name": "stderr",
     "output_type": "stream",
     "text": [
      "/tmp/ipykernel_939252/4132711617.py:19: FutureWarning: `torch.cuda.amp.autocast(args...)` is deprecated. Please use `torch.amp.autocast('cuda', args...)` instead.\n",
      "  with autocast():\n"
     ]
    },
    {
     "name": "stdout",
     "output_type": "stream",
     "text": [
      "[Inception] Epoch 2/30 | Train Loss: 0.3005 | Val Acc: 0.8755\n"
     ]
    },
    {
     "name": "stderr",
     "output_type": "stream",
     "text": [
      "/tmp/ipykernel_939252/4132711617.py:19: FutureWarning: `torch.cuda.amp.autocast(args...)` is deprecated. Please use `torch.amp.autocast('cuda', args...)` instead.\n",
      "  with autocast():\n"
     ]
    },
    {
     "name": "stdout",
     "output_type": "stream",
     "text": [
      "[Inception] Epoch 3/30 | Train Loss: 0.2106 | Val Acc: 0.8850\n"
     ]
    },
    {
     "name": "stderr",
     "output_type": "stream",
     "text": [
      "/tmp/ipykernel_939252/4132711617.py:19: FutureWarning: `torch.cuda.amp.autocast(args...)` is deprecated. Please use `torch.amp.autocast('cuda', args...)` instead.\n",
      "  with autocast():\n"
     ]
    },
    {
     "name": "stdout",
     "output_type": "stream",
     "text": [
      "[Inception] Epoch 4/30 | Train Loss: 0.1918 | Val Acc: 0.9456\n"
     ]
    },
    {
     "name": "stderr",
     "output_type": "stream",
     "text": [
      "/tmp/ipykernel_939252/4132711617.py:19: FutureWarning: `torch.cuda.amp.autocast(args...)` is deprecated. Please use `torch.amp.autocast('cuda', args...)` instead.\n",
      "  with autocast():\n"
     ]
    },
    {
     "name": "stdout",
     "output_type": "stream",
     "text": [
      "[Inception] Epoch 5/30 | Train Loss: 0.1664 | Val Acc: 0.9272\n"
     ]
    },
    {
     "name": "stderr",
     "output_type": "stream",
     "text": [
      "/tmp/ipykernel_939252/4132711617.py:19: FutureWarning: `torch.cuda.amp.autocast(args...)` is deprecated. Please use `torch.amp.autocast('cuda', args...)` instead.\n",
      "  with autocast():\n"
     ]
    },
    {
     "name": "stdout",
     "output_type": "stream",
     "text": [
      "[Inception] Epoch 6/30 | Train Loss: 0.1580 | Val Acc: 0.9456\n"
     ]
    },
    {
     "name": "stderr",
     "output_type": "stream",
     "text": [
      "/tmp/ipykernel_939252/4132711617.py:19: FutureWarning: `torch.cuda.amp.autocast(args...)` is deprecated. Please use `torch.amp.autocast('cuda', args...)` instead.\n",
      "  with autocast():\n"
     ]
    },
    {
     "name": "stdout",
     "output_type": "stream",
     "text": [
      "[Inception] Epoch 7/30 | Train Loss: 0.1486 | Val Acc: 0.9633\n"
     ]
    },
    {
     "name": "stderr",
     "output_type": "stream",
     "text": [
      "/tmp/ipykernel_939252/4132711617.py:19: FutureWarning: `torch.cuda.amp.autocast(args...)` is deprecated. Please use `torch.amp.autocast('cuda', args...)` instead.\n",
      "  with autocast():\n"
     ]
    },
    {
     "name": "stdout",
     "output_type": "stream",
     "text": [
      "[Inception] Epoch 8/30 | Train Loss: 0.1220 | Val Acc: 0.9633\n"
     ]
    },
    {
     "name": "stderr",
     "output_type": "stream",
     "text": [
      "/tmp/ipykernel_939252/4132711617.py:19: FutureWarning: `torch.cuda.amp.autocast(args...)` is deprecated. Please use `torch.amp.autocast('cuda', args...)` instead.\n",
      "  with autocast():\n"
     ]
    },
    {
     "name": "stdout",
     "output_type": "stream",
     "text": [
      "[Inception] Epoch 9/30 | Train Loss: 0.1288 | Val Acc: 0.9707\n"
     ]
    },
    {
     "name": "stderr",
     "output_type": "stream",
     "text": [
      "/tmp/ipykernel_939252/4132711617.py:19: FutureWarning: `torch.cuda.amp.autocast(args...)` is deprecated. Please use `torch.amp.autocast('cuda', args...)` instead.\n",
      "  with autocast():\n"
     ]
    },
    {
     "name": "stdout",
     "output_type": "stream",
     "text": [
      "[Inception] Epoch 10/30 | Train Loss: 0.1177 | Val Acc: 0.9687\n"
     ]
    },
    {
     "name": "stderr",
     "output_type": "stream",
     "text": [
      "/tmp/ipykernel_939252/4132711617.py:19: FutureWarning: `torch.cuda.amp.autocast(args...)` is deprecated. Please use `torch.amp.autocast('cuda', args...)` instead.\n",
      "  with autocast():\n"
     ]
    },
    {
     "name": "stdout",
     "output_type": "stream",
     "text": [
      "[Inception] Epoch 11/30 | Train Loss: 0.0836 | Val Acc: 0.9810\n"
     ]
    },
    {
     "name": "stderr",
     "output_type": "stream",
     "text": [
      "/tmp/ipykernel_939252/4132711617.py:19: FutureWarning: `torch.cuda.amp.autocast(args...)` is deprecated. Please use `torch.amp.autocast('cuda', args...)` instead.\n",
      "  with autocast():\n"
     ]
    },
    {
     "name": "stdout",
     "output_type": "stream",
     "text": [
      "[Inception] Epoch 12/30 | Train Loss: 0.0670 | Val Acc: 0.9803\n"
     ]
    },
    {
     "name": "stderr",
     "output_type": "stream",
     "text": [
      "/tmp/ipykernel_939252/4132711617.py:19: FutureWarning: `torch.cuda.amp.autocast(args...)` is deprecated. Please use `torch.amp.autocast('cuda', args...)` instead.\n",
      "  with autocast():\n"
     ]
    },
    {
     "name": "stdout",
     "output_type": "stream",
     "text": [
      "[Inception] Epoch 13/30 | Train Loss: 0.0579 | Val Acc: 0.9782\n"
     ]
    },
    {
     "name": "stderr",
     "output_type": "stream",
     "text": [
      "/tmp/ipykernel_939252/4132711617.py:19: FutureWarning: `torch.cuda.amp.autocast(args...)` is deprecated. Please use `torch.amp.autocast('cuda', args...)` instead.\n",
      "  with autocast():\n"
     ]
    },
    {
     "name": "stdout",
     "output_type": "stream",
     "text": [
      "[Inception] Epoch 14/30 | Train Loss: 0.0562 | Val Acc: 0.9782\n"
     ]
    },
    {
     "name": "stderr",
     "output_type": "stream",
     "text": [
      "/tmp/ipykernel_939252/4132711617.py:19: FutureWarning: `torch.cuda.amp.autocast(args...)` is deprecated. Please use `torch.amp.autocast('cuda', args...)` instead.\n",
      "  with autocast():\n"
     ]
    },
    {
     "name": "stdout",
     "output_type": "stream",
     "text": [
      "[Inception] Epoch 15/30 | Train Loss: 0.0565 | Val Acc: 0.9884\n"
     ]
    },
    {
     "name": "stderr",
     "output_type": "stream",
     "text": [
      "/tmp/ipykernel_939252/4132711617.py:19: FutureWarning: `torch.cuda.amp.autocast(args...)` is deprecated. Please use `torch.amp.autocast('cuda', args...)` instead.\n",
      "  with autocast():\n"
     ]
    },
    {
     "name": "stdout",
     "output_type": "stream",
     "text": [
      "[Inception] Epoch 16/30 | Train Loss: 0.0556 | Val Acc: 0.9857\n"
     ]
    },
    {
     "name": "stderr",
     "output_type": "stream",
     "text": [
      "/tmp/ipykernel_939252/4132711617.py:19: FutureWarning: `torch.cuda.amp.autocast(args...)` is deprecated. Please use `torch.amp.autocast('cuda', args...)` instead.\n",
      "  with autocast():\n"
     ]
    },
    {
     "name": "stdout",
     "output_type": "stream",
     "text": [
      "[Inception] Epoch 17/30 | Train Loss: 0.0523 | Val Acc: 0.9864\n"
     ]
    },
    {
     "name": "stderr",
     "output_type": "stream",
     "text": [
      "/tmp/ipykernel_939252/4132711617.py:19: FutureWarning: `torch.cuda.amp.autocast(args...)` is deprecated. Please use `torch.amp.autocast('cuda', args...)` instead.\n",
      "  with autocast():\n"
     ]
    },
    {
     "name": "stdout",
     "output_type": "stream",
     "text": [
      "[Inception] Epoch 18/30 | Train Loss: 0.0485 | Val Acc: 0.9864\n"
     ]
    },
    {
     "name": "stderr",
     "output_type": "stream",
     "text": [
      "/tmp/ipykernel_939252/4132711617.py:19: FutureWarning: `torch.cuda.amp.autocast(args...)` is deprecated. Please use `torch.amp.autocast('cuda', args...)` instead.\n",
      "  with autocast():\n"
     ]
    },
    {
     "name": "stdout",
     "output_type": "stream",
     "text": [
      "[Inception] Epoch 19/30 | Train Loss: 0.0473 | Val Acc: 0.9871\n"
     ]
    },
    {
     "name": "stderr",
     "output_type": "stream",
     "text": [
      "/tmp/ipykernel_939252/4132711617.py:19: FutureWarning: `torch.cuda.amp.autocast(args...)` is deprecated. Please use `torch.amp.autocast('cuda', args...)` instead.\n",
      "  with autocast():\n"
     ]
    },
    {
     "name": "stdout",
     "output_type": "stream",
     "text": [
      "[Inception] Epoch 20/30 | Train Loss: 0.0521 | Val Acc: 0.9864\n"
     ]
    },
    {
     "name": "stderr",
     "output_type": "stream",
     "text": [
      "/tmp/ipykernel_939252/4132711617.py:19: FutureWarning: `torch.cuda.amp.autocast(args...)` is deprecated. Please use `torch.amp.autocast('cuda', args...)` instead.\n",
      "  with autocast():\n"
     ]
    },
    {
     "name": "stdout",
     "output_type": "stream",
     "text": [
      "[Inception] Epoch 21/30 | Train Loss: 0.0464 | Val Acc: 0.9864\n"
     ]
    },
    {
     "name": "stderr",
     "output_type": "stream",
     "text": [
      "/tmp/ipykernel_939252/4132711617.py:19: FutureWarning: `torch.cuda.amp.autocast(args...)` is deprecated. Please use `torch.amp.autocast('cuda', args...)` instead.\n",
      "  with autocast():\n"
     ]
    },
    {
     "name": "stdout",
     "output_type": "stream",
     "text": [
      "[Inception] Epoch 22/30 | Train Loss: 0.0464 | Val Acc: 0.9837\n"
     ]
    },
    {
     "name": "stderr",
     "output_type": "stream",
     "text": [
      "/tmp/ipykernel_939252/4132711617.py:19: FutureWarning: `torch.cuda.amp.autocast(args...)` is deprecated. Please use `torch.amp.autocast('cuda', args...)` instead.\n",
      "  with autocast():\n"
     ]
    },
    {
     "name": "stdout",
     "output_type": "stream",
     "text": [
      "[Inception] Epoch 23/30 | Train Loss: 0.0394 | Val Acc: 0.9891\n"
     ]
    },
    {
     "name": "stderr",
     "output_type": "stream",
     "text": [
      "/tmp/ipykernel_939252/4132711617.py:19: FutureWarning: `torch.cuda.amp.autocast(args...)` is deprecated. Please use `torch.amp.autocast('cuda', args...)` instead.\n",
      "  with autocast():\n"
     ]
    },
    {
     "name": "stdout",
     "output_type": "stream",
     "text": [
      "[Inception] Epoch 24/30 | Train Loss: 0.0409 | Val Acc: 0.9823\n"
     ]
    },
    {
     "name": "stderr",
     "output_type": "stream",
     "text": [
      "/tmp/ipykernel_939252/4132711617.py:19: FutureWarning: `torch.cuda.amp.autocast(args...)` is deprecated. Please use `torch.amp.autocast('cuda', args...)` instead.\n",
      "  with autocast():\n"
     ]
    },
    {
     "name": "stdout",
     "output_type": "stream",
     "text": [
      "[Inception] Epoch 25/30 | Train Loss: 0.0435 | Val Acc: 0.9857\n"
     ]
    },
    {
     "name": "stderr",
     "output_type": "stream",
     "text": [
      "/tmp/ipykernel_939252/4132711617.py:19: FutureWarning: `torch.cuda.amp.autocast(args...)` is deprecated. Please use `torch.amp.autocast('cuda', args...)` instead.\n",
      "  with autocast():\n"
     ]
    },
    {
     "name": "stdout",
     "output_type": "stream",
     "text": [
      "[Inception] Epoch 26/30 | Train Loss: 0.0405 | Val Acc: 0.9857\n"
     ]
    },
    {
     "name": "stderr",
     "output_type": "stream",
     "text": [
      "/tmp/ipykernel_939252/4132711617.py:19: FutureWarning: `torch.cuda.amp.autocast(args...)` is deprecated. Please use `torch.amp.autocast('cuda', args...)` instead.\n",
      "  with autocast():\n"
     ]
    },
    {
     "name": "stdout",
     "output_type": "stream",
     "text": [
      "[Inception] Epoch 27/30 | Train Loss: 0.0361 | Val Acc: 0.9878\n"
     ]
    },
    {
     "name": "stderr",
     "output_type": "stream",
     "text": [
      "/tmp/ipykernel_939252/4132711617.py:19: FutureWarning: `torch.cuda.amp.autocast(args...)` is deprecated. Please use `torch.amp.autocast('cuda', args...)` instead.\n",
      "  with autocast():\n"
     ]
    },
    {
     "name": "stdout",
     "output_type": "stream",
     "text": [
      "[Inception] Epoch 28/30 | Train Loss: 0.0453 | Val Acc: 0.9837\n"
     ]
    },
    {
     "name": "stderr",
     "output_type": "stream",
     "text": [
      "/tmp/ipykernel_939252/4132711617.py:19: FutureWarning: `torch.cuda.amp.autocast(args...)` is deprecated. Please use `torch.amp.autocast('cuda', args...)` instead.\n",
      "  with autocast():\n"
     ]
    },
    {
     "name": "stdout",
     "output_type": "stream",
     "text": [
      "[Inception] Epoch 29/30 | Train Loss: 0.0457 | Val Acc: 0.9891\n"
     ]
    },
    {
     "name": "stderr",
     "output_type": "stream",
     "text": [
      "/tmp/ipykernel_939252/4132711617.py:19: FutureWarning: `torch.cuda.amp.autocast(args...)` is deprecated. Please use `torch.amp.autocast('cuda', args...)` instead.\n",
      "  with autocast():\n"
     ]
    },
    {
     "name": "stdout",
     "output_type": "stream",
     "text": [
      "[Inception] Epoch 30/30 | Train Loss: 0.0376 | Val Acc: 0.9857\n"
     ]
    }
   ],
   "source": [
    "# InceptionV3\n",
    "model_incep = models.inception_v3(weights=models.Inception_V3_Weights.DEFAULT)\n",
    "model_incep.fc = nn.Linear(model_incep.fc.in_features, num_classes)\n",
    "model_incep.to(device)\n",
    "\n",
    "criterion = nn.CrossEntropyLoss(weight=class_weights)\n",
    "optimizer_incep = torch.optim.Adam(model_incep.parameters(), lr=0.001)\n",
    "scheduler_incep = torch.optim.lr_scheduler.StepLR(optimizer_incep, step_size=10, gamma=0.1)\n",
    "scaler_incep = GradScaler()\n",
    "\n",
    "best_val_acc_incep = 0\n",
    "\n",
    "for epoch in range(30):\n",
    "    model_incep.train()\n",
    "    train_loss = 0\n",
    "    for images, labels in train_loader_incep:\n",
    "        images, labels = images.to(device), labels.to(device)\n",
    "        optimizer_incep.zero_grad()\n",
    "        with autocast():\n",
    "            outputs = model_incep(images)\n",
    "            if isinstance(outputs, tuple):\n",
    "                outputs = outputs[0]\n",
    "            loss = criterion(outputs, labels)\n",
    "        scaler_incep.scale(loss).backward()\n",
    "        scaler_incep.step(optimizer_incep)\n",
    "        scaler_incep.update()\n",
    "        train_loss += loss.item() * images.size(0)\n",
    "    train_loss /= len(train_loader_incep.dataset)\n",
    "\n",
    "    # Validation\n",
    "    model_incep.eval()\n",
    "    val_preds, val_labels = [], []\n",
    "    with torch.no_grad():\n",
    "        for images, labels in val_loader_incep:\n",
    "            images, labels = images.to(device), labels.to(device)\n",
    "            outputs = model_incep(images)\n",
    "            if isinstance(outputs, tuple):\n",
    "                outputs = outputs[0]\n",
    "            preds = torch.argmax(outputs, dim=1)\n",
    "            val_preds.extend(preds.cpu().numpy())\n",
    "            val_labels.extend(labels.cpu().numpy())\n",
    "\n",
    "    val_acc = accuracy_score(val_labels, val_preds)\n",
    "\n",
    "    if val_acc > best_val_acc_incep:\n",
    "        best_val_acc_incep = val_acc\n",
    "        torch.save(model_incep.state_dict(), 'best_model_inception.pth')\n",
    "\n",
    "    scheduler_incep.step()\n",
    "\n",
    "    print(f\"[Inception] Epoch {epoch+1}/30 | Train Loss: {train_loss:.4f} | Val Acc: {val_acc:.4f}\")"
   ]
  },
  {
   "cell_type": "code",
   "execution_count": 8,
   "metadata": {
    "execution": {
     "iopub.execute_input": "2025-03-21T05:34:48.821187Z",
     "iopub.status.busy": "2025-03-21T05:34:48.820752Z",
     "iopub.status.idle": "2025-03-21T05:37:22.649526Z",
     "shell.execute_reply": "2025-03-21T05:37:22.647896Z",
     "shell.execute_reply.started": "2025-03-21T05:34:48.821155Z"
    },
    "scrolled": true
   },
   "outputs": [
    {
     "name": "stdout",
     "output_type": "stream",
     "text": [
      "InceptionV3 Final Accuracy: 0.9877551020408163\n",
      "              precision    recall  f1-score   support\n",
      "\n",
      "           0       1.00      0.98      0.99       496\n",
      "           1       0.99      0.99      0.99       489\n",
      "           2       0.98      0.99      0.98       485\n",
      "\n",
      "    accuracy                           0.99      1470\n",
      "   macro avg       0.99      0.99      0.99      1470\n",
      "weighted avg       0.99      0.99      0.99      1470\n",
      "\n",
      "[[487   0   9]\n",
      " [  2 484   3]\n",
      " [  0   4 481]]\n"
     ]
    }
   ],
   "source": [
    "model_incep.load_state_dict(torch.load('best_model_inception.pth'))\n",
    "model_incep.eval()\n",
    "\n",
    "val_preds, val_labels = [], []\n",
    "with torch.no_grad():\n",
    "    for images, labels in val_loader_incep:\n",
    "        images, labels = images.to(device), labels.to(device)\n",
    "        outputs = model_incep(images)\n",
    "        if isinstance(outputs, tuple):\n",
    "            outputs = outputs[0]\n",
    "        preds = torch.argmax(outputs, dim=1)\n",
    "        val_preds.extend(preds.cpu().numpy())\n",
    "        val_labels.extend(labels.cpu().numpy())\n",
    "\n",
    "print(\"InceptionV3 Final Accuracy:\", accuracy_score(val_labels, val_preds))\n",
    "print(classification_report(val_labels, val_preds))\n",
    "print(confusion_matrix(val_labels, val_preds))"
   ]
  },
  {
   "cell_type": "markdown",
   "metadata": {},
   "source": [
    "# ViT"
   ]
  },
  {
   "cell_type": "code",
   "execution_count": 9,
   "metadata": {},
   "outputs": [
    {
     "name": "stdout",
     "output_type": "stream",
     "text": [
      "Downloading: \"https://download.pytorch.org/models/vit_b_16-c867db91.pth\" to /home/hice1/slee3593/.cache/torch/hub/checkpoints/vit_b_16-c867db91.pth\n"
     ]
    },
    {
     "name": "stderr",
     "output_type": "stream",
     "text": [
      "100%|██████████| 330M/330M [00:00<00:00, 449MB/s] \n",
      "/tmp/ipykernel_939252/4206980438.py:13: FutureWarning: `torch.cuda.amp.GradScaler(args...)` is deprecated. Please use `torch.amp.GradScaler('cuda', args...)` instead.\n",
      "  scaler_vit = GradScaler()\n",
      "/tmp/ipykernel_939252/4206980438.py:33: FutureWarning: `torch.cuda.amp.autocast(args...)` is deprecated. Please use `torch.amp.autocast('cuda', args...)` instead.\n",
      "  with autocast():\n"
     ]
    },
    {
     "name": "stdout",
     "output_type": "stream",
     "text": [
      "[ViT] Epoch 1/30 | Train Loss: 0.9006 | Val Acc: 0.8143\n"
     ]
    },
    {
     "name": "stderr",
     "output_type": "stream",
     "text": [
      "/tmp/ipykernel_939252/4206980438.py:33: FutureWarning: `torch.cuda.amp.autocast(args...)` is deprecated. Please use `torch.amp.autocast('cuda', args...)` instead.\n",
      "  with autocast():\n"
     ]
    },
    {
     "name": "stdout",
     "output_type": "stream",
     "text": [
      "[ViT] Epoch 2/30 | Train Loss: 0.5860 | Val Acc: 0.8878\n"
     ]
    },
    {
     "name": "stderr",
     "output_type": "stream",
     "text": [
      "/tmp/ipykernel_939252/4206980438.py:33: FutureWarning: `torch.cuda.amp.autocast(args...)` is deprecated. Please use `torch.amp.autocast('cuda', args...)` instead.\n",
      "  with autocast():\n"
     ]
    },
    {
     "name": "stdout",
     "output_type": "stream",
     "text": [
      "[ViT] Epoch 3/30 | Train Loss: 0.4456 | Val Acc: 0.9211\n"
     ]
    },
    {
     "name": "stderr",
     "output_type": "stream",
     "text": [
      "/tmp/ipykernel_939252/4206980438.py:33: FutureWarning: `torch.cuda.amp.autocast(args...)` is deprecated. Please use `torch.amp.autocast('cuda', args...)` instead.\n",
      "  with autocast():\n"
     ]
    },
    {
     "name": "stdout",
     "output_type": "stream",
     "text": [
      "[ViT] Epoch 4/30 | Train Loss: 0.3713 | Val Acc: 0.9272\n"
     ]
    },
    {
     "name": "stderr",
     "output_type": "stream",
     "text": [
      "/tmp/ipykernel_939252/4206980438.py:33: FutureWarning: `torch.cuda.amp.autocast(args...)` is deprecated. Please use `torch.amp.autocast('cuda', args...)` instead.\n",
      "  with autocast():\n"
     ]
    },
    {
     "name": "stdout",
     "output_type": "stream",
     "text": [
      "[ViT] Epoch 5/30 | Train Loss: 0.3267 | Val Acc: 0.9272\n",
      "Unfroze ViT backbone.\n"
     ]
    },
    {
     "name": "stderr",
     "output_type": "stream",
     "text": [
      "/tmp/ipykernel_939252/4206980438.py:33: FutureWarning: `torch.cuda.amp.autocast(args...)` is deprecated. Please use `torch.amp.autocast('cuda', args...)` instead.\n",
      "  with autocast():\n"
     ]
    },
    {
     "name": "stdout",
     "output_type": "stream",
     "text": [
      "[ViT] Epoch 6/30 | Train Loss: 0.1009 | Val Acc: 0.9735\n"
     ]
    },
    {
     "name": "stderr",
     "output_type": "stream",
     "text": [
      "/tmp/ipykernel_939252/4206980438.py:33: FutureWarning: `torch.cuda.amp.autocast(args...)` is deprecated. Please use `torch.amp.autocast('cuda', args...)` instead.\n",
      "  with autocast():\n"
     ]
    },
    {
     "name": "stdout",
     "output_type": "stream",
     "text": [
      "[ViT] Epoch 7/30 | Train Loss: 0.0629 | Val Acc: 0.9796\n"
     ]
    },
    {
     "name": "stderr",
     "output_type": "stream",
     "text": [
      "/tmp/ipykernel_939252/4206980438.py:33: FutureWarning: `torch.cuda.amp.autocast(args...)` is deprecated. Please use `torch.amp.autocast('cuda', args...)` instead.\n",
      "  with autocast():\n"
     ]
    },
    {
     "name": "stdout",
     "output_type": "stream",
     "text": [
      "[ViT] Epoch 8/30 | Train Loss: 0.0516 | Val Acc: 0.9918\n"
     ]
    },
    {
     "name": "stderr",
     "output_type": "stream",
     "text": [
      "/tmp/ipykernel_939252/4206980438.py:33: FutureWarning: `torch.cuda.amp.autocast(args...)` is deprecated. Please use `torch.amp.autocast('cuda', args...)` instead.\n",
      "  with autocast():\n"
     ]
    },
    {
     "name": "stdout",
     "output_type": "stream",
     "text": [
      "[ViT] Epoch 9/30 | Train Loss: 0.0303 | Val Acc: 0.9925\n"
     ]
    },
    {
     "name": "stderr",
     "output_type": "stream",
     "text": [
      "/tmp/ipykernel_939252/4206980438.py:33: FutureWarning: `torch.cuda.amp.autocast(args...)` is deprecated. Please use `torch.amp.autocast('cuda', args...)` instead.\n",
      "  with autocast():\n"
     ]
    },
    {
     "name": "stdout",
     "output_type": "stream",
     "text": [
      "[ViT] Epoch 10/30 | Train Loss: 0.0285 | Val Acc: 0.9796\n"
     ]
    },
    {
     "name": "stderr",
     "output_type": "stream",
     "text": [
      "/tmp/ipykernel_939252/4206980438.py:33: FutureWarning: `torch.cuda.amp.autocast(args...)` is deprecated. Please use `torch.amp.autocast('cuda', args...)` instead.\n",
      "  with autocast():\n"
     ]
    },
    {
     "name": "stdout",
     "output_type": "stream",
     "text": [
      "[ViT] Epoch 11/30 | Train Loss: 0.0279 | Val Acc: 0.9905\n"
     ]
    },
    {
     "name": "stderr",
     "output_type": "stream",
     "text": [
      "/tmp/ipykernel_939252/4206980438.py:33: FutureWarning: `torch.cuda.amp.autocast(args...)` is deprecated. Please use `torch.amp.autocast('cuda', args...)` instead.\n",
      "  with autocast():\n"
     ]
    },
    {
     "name": "stdout",
     "output_type": "stream",
     "text": [
      "[ViT] Epoch 12/30 | Train Loss: 0.0242 | Val Acc: 0.9925\n"
     ]
    },
    {
     "name": "stderr",
     "output_type": "stream",
     "text": [
      "/tmp/ipykernel_939252/4206980438.py:33: FutureWarning: `torch.cuda.amp.autocast(args...)` is deprecated. Please use `torch.amp.autocast('cuda', args...)` instead.\n",
      "  with autocast():\n"
     ]
    },
    {
     "name": "stdout",
     "output_type": "stream",
     "text": [
      "[ViT] Epoch 13/30 | Train Loss: 0.0181 | Val Acc: 0.9973\n"
     ]
    },
    {
     "name": "stderr",
     "output_type": "stream",
     "text": [
      "/tmp/ipykernel_939252/4206980438.py:33: FutureWarning: `torch.cuda.amp.autocast(args...)` is deprecated. Please use `torch.amp.autocast('cuda', args...)` instead.\n",
      "  with autocast():\n"
     ]
    },
    {
     "name": "stdout",
     "output_type": "stream",
     "text": [
      "[ViT] Epoch 14/30 | Train Loss: 0.0149 | Val Acc: 0.9952\n"
     ]
    },
    {
     "name": "stderr",
     "output_type": "stream",
     "text": [
      "/tmp/ipykernel_939252/4206980438.py:33: FutureWarning: `torch.cuda.amp.autocast(args...)` is deprecated. Please use `torch.amp.autocast('cuda', args...)` instead.\n",
      "  with autocast():\n"
     ]
    },
    {
     "name": "stdout",
     "output_type": "stream",
     "text": [
      "[ViT] Epoch 15/30 | Train Loss: 0.0161 | Val Acc: 0.9918\n"
     ]
    },
    {
     "name": "stderr",
     "output_type": "stream",
     "text": [
      "/tmp/ipykernel_939252/4206980438.py:33: FutureWarning: `torch.cuda.amp.autocast(args...)` is deprecated. Please use `torch.amp.autocast('cuda', args...)` instead.\n",
      "  with autocast():\n"
     ]
    },
    {
     "name": "stdout",
     "output_type": "stream",
     "text": [
      "[ViT] Epoch 16/30 | Train Loss: 0.0560 | Val Acc: 0.9762\n"
     ]
    },
    {
     "name": "stderr",
     "output_type": "stream",
     "text": [
      "/tmp/ipykernel_939252/4206980438.py:33: FutureWarning: `torch.cuda.amp.autocast(args...)` is deprecated. Please use `torch.amp.autocast('cuda', args...)` instead.\n",
      "  with autocast():\n"
     ]
    },
    {
     "name": "stdout",
     "output_type": "stream",
     "text": [
      "[ViT] Epoch 17/30 | Train Loss: 0.0566 | Val Acc: 0.9782\n"
     ]
    },
    {
     "name": "stderr",
     "output_type": "stream",
     "text": [
      "/tmp/ipykernel_939252/4206980438.py:33: FutureWarning: `torch.cuda.amp.autocast(args...)` is deprecated. Please use `torch.amp.autocast('cuda', args...)` instead.\n",
      "  with autocast():\n"
     ]
    },
    {
     "name": "stdout",
     "output_type": "stream",
     "text": [
      "[ViT] Epoch 18/30 | Train Loss: 0.0352 | Val Acc: 0.9884\n"
     ]
    },
    {
     "name": "stderr",
     "output_type": "stream",
     "text": [
      "/tmp/ipykernel_939252/4206980438.py:33: FutureWarning: `torch.cuda.amp.autocast(args...)` is deprecated. Please use `torch.amp.autocast('cuda', args...)` instead.\n",
      "  with autocast():\n"
     ]
    },
    {
     "name": "stdout",
     "output_type": "stream",
     "text": [
      "[ViT] Epoch 19/30 | Train Loss: 0.0373 | Val Acc: 0.9660\n"
     ]
    },
    {
     "name": "stderr",
     "output_type": "stream",
     "text": [
      "/tmp/ipykernel_939252/4206980438.py:33: FutureWarning: `torch.cuda.amp.autocast(args...)` is deprecated. Please use `torch.amp.autocast('cuda', args...)` instead.\n",
      "  with autocast():\n"
     ]
    },
    {
     "name": "stdout",
     "output_type": "stream",
     "text": [
      "[ViT] Epoch 20/30 | Train Loss: 0.0389 | Val Acc: 0.9646\n"
     ]
    },
    {
     "name": "stderr",
     "output_type": "stream",
     "text": [
      "/tmp/ipykernel_939252/4206980438.py:33: FutureWarning: `torch.cuda.amp.autocast(args...)` is deprecated. Please use `torch.amp.autocast('cuda', args...)` instead.\n",
      "  with autocast():\n"
     ]
    },
    {
     "name": "stdout",
     "output_type": "stream",
     "text": [
      "[ViT] Epoch 21/30 | Train Loss: 0.0295 | Val Acc: 0.9905\n"
     ]
    },
    {
     "name": "stderr",
     "output_type": "stream",
     "text": [
      "/tmp/ipykernel_939252/4206980438.py:33: FutureWarning: `torch.cuda.amp.autocast(args...)` is deprecated. Please use `torch.amp.autocast('cuda', args...)` instead.\n",
      "  with autocast():\n"
     ]
    },
    {
     "name": "stdout",
     "output_type": "stream",
     "text": [
      "[ViT] Epoch 22/30 | Train Loss: 0.0295 | Val Acc: 0.9871\n"
     ]
    },
    {
     "name": "stderr",
     "output_type": "stream",
     "text": [
      "/tmp/ipykernel_939252/4206980438.py:33: FutureWarning: `torch.cuda.amp.autocast(args...)` is deprecated. Please use `torch.amp.autocast('cuda', args...)` instead.\n",
      "  with autocast():\n"
     ]
    },
    {
     "name": "stdout",
     "output_type": "stream",
     "text": [
      "[ViT] Epoch 23/30 | Train Loss: 0.0266 | Val Acc: 0.9959\n"
     ]
    },
    {
     "name": "stderr",
     "output_type": "stream",
     "text": [
      "/tmp/ipykernel_939252/4206980438.py:33: FutureWarning: `torch.cuda.amp.autocast(args...)` is deprecated. Please use `torch.amp.autocast('cuda', args...)` instead.\n",
      "  with autocast():\n"
     ]
    },
    {
     "name": "stdout",
     "output_type": "stream",
     "text": [
      "[ViT] Epoch 24/30 | Train Loss: 0.0201 | Val Acc: 0.9918\n"
     ]
    },
    {
     "name": "stderr",
     "output_type": "stream",
     "text": [
      "/tmp/ipykernel_939252/4206980438.py:33: FutureWarning: `torch.cuda.amp.autocast(args...)` is deprecated. Please use `torch.amp.autocast('cuda', args...)` instead.\n",
      "  with autocast():\n"
     ]
    },
    {
     "name": "stdout",
     "output_type": "stream",
     "text": [
      "[ViT] Epoch 25/30 | Train Loss: 0.0155 | Val Acc: 0.9925\n"
     ]
    },
    {
     "name": "stderr",
     "output_type": "stream",
     "text": [
      "/tmp/ipykernel_939252/4206980438.py:33: FutureWarning: `torch.cuda.amp.autocast(args...)` is deprecated. Please use `torch.amp.autocast('cuda', args...)` instead.\n",
      "  with autocast():\n"
     ]
    },
    {
     "name": "stdout",
     "output_type": "stream",
     "text": [
      "[ViT] Epoch 26/30 | Train Loss: 0.0229 | Val Acc: 0.9939\n"
     ]
    },
    {
     "name": "stderr",
     "output_type": "stream",
     "text": [
      "/tmp/ipykernel_939252/4206980438.py:33: FutureWarning: `torch.cuda.amp.autocast(args...)` is deprecated. Please use `torch.amp.autocast('cuda', args...)` instead.\n",
      "  with autocast():\n"
     ]
    },
    {
     "name": "stdout",
     "output_type": "stream",
     "text": [
      "[ViT] Epoch 27/30 | Train Loss: 0.0155 | Val Acc: 0.9946\n"
     ]
    },
    {
     "name": "stderr",
     "output_type": "stream",
     "text": [
      "/tmp/ipykernel_939252/4206980438.py:33: FutureWarning: `torch.cuda.amp.autocast(args...)` is deprecated. Please use `torch.amp.autocast('cuda', args...)` instead.\n",
      "  with autocast():\n"
     ]
    },
    {
     "name": "stdout",
     "output_type": "stream",
     "text": [
      "[ViT] Epoch 28/30 | Train Loss: 0.0142 | Val Acc: 0.9946\n"
     ]
    },
    {
     "name": "stderr",
     "output_type": "stream",
     "text": [
      "/tmp/ipykernel_939252/4206980438.py:33: FutureWarning: `torch.cuda.amp.autocast(args...)` is deprecated. Please use `torch.amp.autocast('cuda', args...)` instead.\n",
      "  with autocast():\n"
     ]
    },
    {
     "name": "stdout",
     "output_type": "stream",
     "text": [
      "[ViT] Epoch 29/30 | Train Loss: 0.0093 | Val Acc: 0.9918\n"
     ]
    },
    {
     "name": "stderr",
     "output_type": "stream",
     "text": [
      "/tmp/ipykernel_939252/4206980438.py:33: FutureWarning: `torch.cuda.amp.autocast(args...)` is deprecated. Please use `torch.amp.autocast('cuda', args...)` instead.\n",
      "  with autocast():\n"
     ]
    },
    {
     "name": "stdout",
     "output_type": "stream",
     "text": [
      "[ViT] Epoch 30/30 | Train Loss: 0.0099 | Val Acc: 0.9932\n"
     ]
    }
   ],
   "source": [
    "model_vit = models.vit_b_16(weights=models.ViT_B_16_Weights.DEFAULT)\n",
    "model_vit.heads.head = nn.Linear(model_vit.heads.head.in_features, num_classes)\n",
    "model_vit.to(device)\n",
    "\n",
    "# Freeze backbone initially\n",
    "for param in model_vit.parameters():\n",
    "    param.requires_grad = False\n",
    "for param in model_vit.heads.parameters():\n",
    "    param.requires_grad = True\n",
    "\n",
    "optimizer_vit = AdamW(model_vit.parameters(), lr=5e-5, weight_decay=0.01)\n",
    "scheduler_vit = CosineAnnealingWarmRestarts(optimizer_vit, T_0=10, T_mult=2)\n",
    "scaler_vit = GradScaler()\n",
    "criterion_vit = nn.CrossEntropyLoss(weight=class_weights)\n",
    "\n",
    "best_val_acc_vit = 0\n",
    "freeze_epochs = 5\n",
    "\n",
    "for epoch in range(30):\n",
    "    if epoch == freeze_epochs:\n",
    "        # Unfreeze backbone\n",
    "        for param in model_vit.parameters():\n",
    "            param.requires_grad = True\n",
    "        optimizer_vit = AdamW(model_vit.parameters(), lr=5e-5, weight_decay=0.01)\n",
    "        scheduler_vit = CosineAnnealingWarmRestarts(optimizer_vit, T_0=10, T_mult=2)\n",
    "        print(\"Unfroze ViT backbone.\")\n",
    "\n",
    "    model_vit.train()\n",
    "    train_loss = 0\n",
    "    for images, labels in train_loader_vit:\n",
    "        images, labels = images.to(device), labels.to(device)\n",
    "        optimizer_vit.zero_grad()\n",
    "        with autocast():\n",
    "            outputs = model_vit(images)\n",
    "            loss = criterion_vit(outputs, labels)\n",
    "        scaler_vit.scale(loss).backward()\n",
    "        scaler_vit.step(optimizer_vit)\n",
    "        scaler_vit.update()\n",
    "        train_loss += loss.item() * images.size(0)\n",
    "    train_loss /= len(train_loader_vit.dataset)\n",
    "\n",
    "    # Validation\n",
    "    model_vit.eval()\n",
    "    val_preds, val_labels = [], []\n",
    "    with torch.no_grad():\n",
    "        for images, labels in val_loader_vit:\n",
    "            images, labels = images.to(device), labels.to(device)\n",
    "            outputs = model_vit(images)\n",
    "            preds = torch.argmax(outputs, dim=1)\n",
    "            val_preds.extend(preds.cpu().numpy())\n",
    "            val_labels.extend(labels.cpu().numpy())\n",
    "\n",
    "    val_acc = accuracy_score(val_labels, val_preds)\n",
    "\n",
    "    if val_acc > best_val_acc_vit:\n",
    "        best_val_acc_vit = val_acc\n",
    "        torch.save(model_vit.state_dict(), 'best_model_vit.pth')\n",
    "\n",
    "    scheduler_vit.step()\n",
    "\n",
    "    print(f\"[ViT] Epoch {epoch+1}/30 | Train Loss: {train_loss:.4f} | Val Acc: {val_acc:.4f}\")"
   ]
  },
  {
   "cell_type": "code",
   "execution_count": 10,
   "metadata": {},
   "outputs": [
    {
     "name": "stdout",
     "output_type": "stream",
     "text": [
      "ViT Final Accuracy: 0.9931972789115646\n",
      "              precision    recall  f1-score   support\n",
      "\n",
      "           0       0.99      1.00      0.99       496\n",
      "           1       1.00      0.98      0.99       489\n",
      "           2       0.99      1.00      0.99       485\n",
      "\n",
      "    accuracy                           0.99      1470\n",
      "   macro avg       0.99      0.99      0.99      1470\n",
      "weighted avg       0.99      0.99      0.99      1470\n",
      "\n",
      "[[496   0   0]\n",
      " [  5 480   4]\n",
      " [  1   0 484]]\n"
     ]
    }
   ],
   "source": [
    "model_vit.load_state_dict(torch.load('best_model_vit.pth'))\n",
    "model_vit.eval()\n",
    "\n",
    "val_preds_vit, val_labels_vit = [], []\n",
    "with torch.no_grad():\n",
    "    for images, labels in val_loader_vit:\n",
    "        images, labels = images.to(device), labels.to(device)\n",
    "        outputs = model_vit(images)\n",
    "        preds = torch.argmax(outputs, dim=1)\n",
    "        val_preds_vit.extend(preds.cpu().numpy())\n",
    "        val_labels_vit.extend(labels.cpu().numpy())\n",
    "\n",
    "print(\"ViT Final Accuracy:\", accuracy_score(val_labels_vit, val_preds_vit))\n",
    "print(classification_report(val_labels_vit, val_preds_vit))\n",
    "print(confusion_matrix(val_labels_vit, val_preds_vit))"
   ]
  },
  {
   "cell_type": "markdown",
   "metadata": {},
   "source": [
    "# Ensemble"
   ]
  },
  {
   "cell_type": "code",
   "execution_count": 11,
   "metadata": {},
   "outputs": [
    {
     "name": "stdout",
     "output_type": "stream",
     "text": [
      "Final Ensemble Accuracy: 0.9952380952380953\n",
      "              precision    recall  f1-score   support\n",
      "\n",
      "           0       1.00      1.00      1.00       496\n",
      "           1       0.99      1.00      1.00       489\n",
      "           2       1.00      0.99      0.99       485\n",
      "\n",
      "    accuracy                           1.00      1470\n",
      "   macro avg       1.00      1.00      1.00      1470\n",
      "weighted avg       1.00      1.00      1.00      1470\n",
      "\n",
      "[[495   0   1]\n",
      " [  0 488   1]\n",
      " [  2   3 480]]\n"
     ]
    }
   ],
   "source": [
    "# Load best models\n",
    "model_incep.load_state_dict(torch.load('best_model_inception.pth'))\n",
    "model_incep.eval()\n",
    "model_vit.load_state_dict(torch.load('best_model_vit.pth'))\n",
    "model_vit.eval()\n",
    "\n",
    "# Get softmax logits\n",
    "inception_logits = []\n",
    "vit_logits = []\n",
    "true_labels = []\n",
    "\n",
    "# Inception predictions\n",
    "with torch.no_grad():\n",
    "    for images, labels in val_loader_incep:\n",
    "        images = images.to(device)\n",
    "        outputs = model_incep(images)\n",
    "        if isinstance(outputs, tuple):\n",
    "            outputs = outputs[0]\n",
    "        inception_logits.append(softmax(outputs, dim=1).cpu())\n",
    "        true_labels.extend(labels.cpu().numpy())\n",
    "\n",
    "# ViT predictions\n",
    "with torch.no_grad():\n",
    "    for images, _ in val_loader_vit:\n",
    "        images = images.to(device)\n",
    "        outputs = model_vit(images)\n",
    "        vit_logits.append(softmax(outputs, dim=1).cpu())\n",
    "\n",
    "# Stack\n",
    "inception_logits = torch.cat(inception_logits, dim=0)\n",
    "vit_logits = torch.cat(vit_logits, dim=0)\n",
    "\n",
    "# Weighted ensemble\n",
    "ensemble_logits = 0.6 * inception_logits + 0.4 * vit_logits\n",
    "ensemble_preds = torch.argmax(ensemble_logits, dim=1).numpy()\n",
    "\n",
    "# Evaluation\n",
    "print(\"Final Ensemble Accuracy:\", accuracy_score(true_labels, ensemble_preds))\n",
    "print(classification_report(true_labels, ensemble_preds))\n",
    "print(confusion_matrix(true_labels, ensemble_preds))"
   ]
  },
  {
   "cell_type": "code",
   "execution_count": null,
   "metadata": {},
   "outputs": [],
   "source": []
  }
 ],
 "metadata": {
  "kaggle": {
   "accelerator": "none",
   "dataSources": [
    {
     "databundleVersionId": 422313,
     "sourceId": 13277,
     "sourceType": "competition"
    },
    {
     "datasetId": 1562973,
     "sourceId": 2574068,
     "sourceType": "datasetVersion"
    },
    {
     "datasetId": 3476702,
     "sourceId": 6073860,
     "sourceType": "datasetVersion"
    }
   ],
   "dockerImageVersionId": 30918,
   "isGpuEnabled": false,
   "isInternetEnabled": true,
   "language": "python",
   "sourceType": "notebook"
  },
  "kernelspec": {
   "display_name": "Python 3 (ipykernel)",
   "language": "python",
   "name": "python3"
  },
  "language_info": {
   "codemirror_mode": {
    "name": "ipython",
    "version": 3
   },
   "file_extension": ".py",
   "mimetype": "text/x-python",
   "name": "python",
   "nbconvert_exporter": "python",
   "pygments_lexer": "ipython3",
   "version": "3.10.12"
  }
 },
 "nbformat": 4,
 "nbformat_minor": 4
}

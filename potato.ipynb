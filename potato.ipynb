{
 "cells": [
  {
   "cell_type": "markdown",
   "metadata": {},
   "source": [
    "# Setup"
   ]
  },
  {
   "cell_type": "code",
   "execution_count": 12,
   "metadata": {
    "execution": {
     "iopub.execute_input": "2025-03-21T05:33:56.219900Z",
     "iopub.status.busy": "2025-03-21T05:33:56.219165Z",
     "iopub.status.idle": "2025-03-21T05:33:56.225973Z",
     "shell.execute_reply": "2025-03-21T05:33:56.224579Z",
     "shell.execute_reply.started": "2025-03-21T05:33:56.219862Z"
    }
   },
   "outputs": [],
   "source": [
    "import os\n",
    "import torch\n",
    "import torch.nn as nn\n",
    "from torchvision import datasets, transforms, models\n",
    "from torch.utils.data import DataLoader, Dataset\n",
    "from sklearn.metrics import accuracy_score, classification_report, confusion_matrix"
   ]
  },
  {
   "cell_type": "markdown",
   "metadata": {},
   "source": [
    "# Data Loader"
   ]
  },
  {
   "cell_type": "code",
   "execution_count": 13,
   "metadata": {
    "execution": {
     "iopub.execute_input": "2025-03-21T05:33:58.674714Z",
     "iopub.status.busy": "2025-03-21T05:33:58.674243Z",
     "iopub.status.idle": "2025-03-21T05:33:58.680649Z",
     "shell.execute_reply": "2025-03-21T05:33:58.679425Z",
     "shell.execute_reply.started": "2025-03-21T05:33:58.674673Z"
    }
   },
   "outputs": [],
   "source": [
    "# Define transformations\n",
    "transform_inception = transforms.Compose([\n",
    "    transforms.Resize(299),\n",
    "    transforms.CenterCrop(299),\n",
    "    transforms.ToTensor(),\n",
    "    transforms.Normalize(mean=[0.485, 0.456, 0.406], std=[0.229, 0.224, 0.225])\n",
    "])\n",
    "\n",
    "transform_vit = transforms.Compose([\n",
    "    transforms.Resize(256),\n",
    "    transforms.CenterCrop(224),\n",
    "    transforms.ToTensor(),\n",
    "    transforms.Normalize(mean=[0.485, 0.456, 0.406], std=[0.229, 0.224, 0.225])\n",
    "])\n"
   ]
  },
  {
   "cell_type": "code",
   "execution_count": 14,
   "metadata": {
    "execution": {
     "iopub.execute_input": "2025-03-21T05:34:00.943208Z",
     "iopub.status.busy": "2025-03-21T05:34:00.942777Z",
     "iopub.status.idle": "2025-03-21T05:34:00.948682Z",
     "shell.execute_reply": "2025-03-21T05:34:00.947323Z",
     "shell.execute_reply.started": "2025-03-21T05:34:00.943178Z"
    }
   },
   "outputs": [],
   "source": [
    "# Load dataset\n",
    "data_dir = './potato'\n",
    "train_dir = os.path.join(data_dir, 'Train')\n",
    "test_dir = os.path.join(data_dir, 'Test')"
   ]
  },
  {
   "cell_type": "code",
   "execution_count": 15,
   "metadata": {
    "execution": {
     "iopub.execute_input": "2025-03-21T05:34:03.275369Z",
     "iopub.status.busy": "2025-03-21T05:34:03.274928Z",
     "iopub.status.idle": "2025-03-21T05:34:09.037463Z",
     "shell.execute_reply": "2025-03-21T05:34:09.036163Z",
     "shell.execute_reply.started": "2025-03-21T05:34:03.275338Z"
    }
   },
   "outputs": [],
   "source": [
    "train_dataset_inception = datasets.ImageFolder(train_dir, transform=transform_inception)\n",
    "train_dataset_vit = datasets.ImageFolder(train_dir, transform=transform_vit)\n",
    "\n",
    "test_dataset_inception = datasets.ImageFolder(test_dir, transform=transform_inception)\n",
    "test_dataset_vit = datasets.ImageFolder(test_dir, transform=transform_vit)\n",
    "\n",
    "# Create data loaders\n",
    "train_loader_inception = DataLoader(train_dataset_inception, batch_size=32, shuffle=True)\n",
    "train_loader_vit = DataLoader(train_dataset_vit, batch_size=32, shuffle=True)\n",
    "\n",
    "test_loader_inception = DataLoader(test_dataset_inception, batch_size=32, shuffle=False)\n",
    "test_loader_vit = DataLoader(test_dataset_vit, batch_size=32, shuffle=False)"
   ]
  },
  {
   "cell_type": "markdown",
   "metadata": {},
   "source": [
    "# Inception V3"
   ]
  },
  {
   "cell_type": "code",
   "execution_count": 17,
   "metadata": {
    "execution": {
     "iopub.execute_input": "2025-03-21T05:34:48.821187Z",
     "iopub.status.busy": "2025-03-21T05:34:48.820752Z",
     "iopub.status.idle": "2025-03-21T05:37:22.649526Z",
     "shell.execute_reply": "2025-03-21T05:37:22.647896Z",
     "shell.execute_reply.started": "2025-03-21T05:34:48.821155Z"
    },
    "scrolled": true
   },
   "outputs": [
    {
     "name": "stdout",
     "output_type": "stream",
     "text": [
      "Epoch 1, Loss: 0.808927059173584\n",
      "Epoch 2, Loss: 0.08275655657052994\n",
      "Epoch 3, Loss: 0.22340166568756104\n",
      "Epoch 4, Loss: 0.5032994747161865\n",
      "Epoch 5, Loss: 3.0533785820007324\n",
      "Epoch 6, Loss: 0.004764764104038477\n",
      "Epoch 7, Loss: 8.379476639674976e-05\n",
      "Epoch 8, Loss: 0.17812642455101013\n",
      "Epoch 9, Loss: 2.1143958568573\n",
      "Epoch 10, Loss: 0.023470256477594376\n"
     ]
    }
   ],
   "source": [
    "# Load pre-trained InceptionV3 model\n",
    "model_inception = models.inception_v3(weights=models.Inception_V3_Weights.DEFAULT)\n",
    "\n",
    "# Modify the classifier for the dataset\n",
    "num_classes = len(train_dataset_inception.classes)\n",
    "model_inception.fc = nn.Linear(model_inception.fc.in_features, num_classes)\n",
    "\n",
    "# Move model to device\n",
    "device = torch.device('cuda' if torch.cuda.is_available() else 'cpu')\n",
    "model_inception.to(device)\n",
    "\n",
    "# Define loss and optimizer\n",
    "criterion = nn.CrossEntropyLoss()\n",
    "optimizer_inception = torch.optim.Adam(model_inception.parameters(), lr=0.001)\n",
    "\n",
    "# Train InceptionV3\n",
    "for epoch in range(10):\n",
    "    model_inception.train()\n",
    "    for images, labels in train_loader_inception:\n",
    "        images, labels = images.to(device), labels.to(device)\n",
    "        optimizer_inception.zero_grad()\n",
    "        outputs = model_inception(images)\n",
    "        if isinstance(outputs, tuple):\n",
    "            outputs = outputs[0]  # Select primary output\n",
    "        loss = criterion(outputs, labels)\n",
    "        loss.backward()\n",
    "        optimizer_inception.step()\n",
    "    print(f'Epoch {epoch+1}, Loss: {loss.item()}')"
   ]
  },
  {
   "cell_type": "code",
   "execution_count": 18,
   "metadata": {},
   "outputs": [
    {
     "name": "stdout",
     "output_type": "stream",
     "text": [
      "InceptionV3 Accuracy: 0.9433333333333334\n",
      "InceptionV3 Classification Report:\n",
      "               precision    recall  f1-score   support\n",
      "\n",
      "           0       0.92      1.00      0.96       100\n",
      "           1       1.00      0.83      0.91       100\n",
      "           2       0.93      1.00      0.96       100\n",
      "\n",
      "    accuracy                           0.94       300\n",
      "   macro avg       0.95      0.94      0.94       300\n",
      "weighted avg       0.95      0.94      0.94       300\n",
      "\n",
      "InceptionV3 Confusion Matrix:\n",
      " [[100   0   0]\n",
      " [  9  83   8]\n",
      " [  0   0 100]]\n"
     ]
    }
   ],
   "source": [
    "# Evaluate InceptionV3\n",
    "model_inception.eval()\n",
    "predicted_classes_list = []\n",
    "labels_list = []\n",
    "\n",
    "with torch.no_grad():\n",
    "    for images, labels in test_loader_inception:\n",
    "        images, labels = images.to(device), labels.to(device)\n",
    "        outputs = model_inception(images)\n",
    "        if isinstance(outputs, tuple):\n",
    "            outputs = outputs[0]\n",
    "        predicted_classes = torch.argmax(outputs, dim=1)\n",
    "        predicted_classes_list.extend(predicted_classes.cpu().numpy())\n",
    "        labels_list.extend(labels.cpu().numpy())\n",
    "\n",
    "# Compute evaluation metrics\n",
    "accuracy = accuracy_score(labels_list, predicted_classes_list)\n",
    "print(f\"InceptionV3 Accuracy: {accuracy}\")\n",
    "\n",
    "report = classification_report(labels_list, predicted_classes_list)\n",
    "print(\"InceptionV3 Classification Report:\\n\", report)\n",
    "\n",
    "conf_mat = confusion_matrix(labels_list, predicted_classes_list)\n",
    "print(\"InceptionV3 Confusion Matrix:\\n\", conf_mat)"
   ]
  },
  {
   "cell_type": "markdown",
   "metadata": {},
   "source": [
    "# ViT"
   ]
  },
  {
   "cell_type": "code",
   "execution_count": 22,
   "metadata": {
    "scrolled": true
   },
   "outputs": [
    {
     "name": "stdout",
     "output_type": "stream",
     "text": [
      "Epoch 1, Loss: 0.5770184397697449\n",
      "Epoch 2, Loss: 0.8810605406761169\n",
      "Epoch 3, Loss: 0.37967926263809204\n",
      "Epoch 4, Loss: 0.08804091066122055\n",
      "Epoch 5, Loss: 0.6425436735153198\n",
      "Epoch 6, Loss: 0.05353998765349388\n",
      "Epoch 7, Loss: 0.1216326355934143\n",
      "Epoch 8, Loss: 0.019034769386053085\n",
      "Epoch 9, Loss: 0.002046598121523857\n",
      "Epoch 10, Loss: 0.005959389731287956\n"
     ]
    }
   ],
   "source": [
    "# Load pre-trained ViT model\n",
    "model_vit = models.vit_b_16(weights=models.ViT_B_16_Weights.DEFAULT)\n",
    "\n",
    "# Modify the classifier for the dataset\n",
    "num_classes = len(train_dataset_vit.classes)\n",
    "model_vit.heads.head = nn.Linear(model_vit.heads.head.in_features, num_classes)\n",
    "\n",
    "# Move model to device\n",
    "model_vit.to(device)\n",
    "\n",
    "# Define loss and optimizer\n",
    "criterion = nn.CrossEntropyLoss()\n",
    "optimizer_vit = torch.optim.Adam(model_vit.parameters(), lr=0.001)\n",
    "\n",
    "# Train ViT\n",
    "for epoch in range(10):\n",
    "    model_vit.train()\n",
    "    for images, labels in train_loader_vit:\n",
    "        images, labels = images.to(device), labels.to(device)\n",
    "        optimizer_vit.zero_grad()\n",
    "        outputs = model_vit(images)\n",
    "        loss = criterion(outputs, labels)\n",
    "        loss.backward()\n",
    "        optimizer_vit.step()\n",
    "    print(f'Epoch {epoch+1}, Loss: {loss.item()}')"
   ]
  },
  {
   "cell_type": "code",
   "execution_count": 23,
   "metadata": {},
   "outputs": [
    {
     "name": "stdout",
     "output_type": "stream",
     "text": [
      "ViT Accuracy: 0.9033333333333333\n",
      "ViT Classification Report:\n",
      "               precision    recall  f1-score   support\n",
      "\n",
      "           0       0.97      0.85      0.90       100\n",
      "           1       0.85      0.87      0.86       100\n",
      "           2       0.90      0.99      0.94       100\n",
      "\n",
      "    accuracy                           0.90       300\n",
      "   macro avg       0.91      0.90      0.90       300\n",
      "weighted avg       0.91      0.90      0.90       300\n",
      "\n",
      "ViT Confusion Matrix:\n",
      " [[85 14  1]\n",
      " [ 3 87 10]\n",
      " [ 0  1 99]]\n"
     ]
    }
   ],
   "source": [
    "# Evaluate ViT\n",
    "model_vit.eval()\n",
    "predicted_classes_list = []\n",
    "labels_list = []\n",
    "\n",
    "with torch.no_grad():\n",
    "    for images, labels in test_loader_vit:\n",
    "        images, labels = images.to(device), labels.to(device)\n",
    "        outputs = model_vit(images)\n",
    "        predicted_classes = torch.argmax(outputs, dim=1)\n",
    "        predicted_classes_list.extend(predicted_classes.cpu().numpy())\n",
    "        labels_list.extend(labels.cpu().numpy())\n",
    "\n",
    "# Compute evaluation metrics\n",
    "accuracy = accuracy_score(labels_list, predicted_classes_list)\n",
    "print(f\"ViT Accuracy: {accuracy}\")\n",
    "\n",
    "report = classification_report(labels_list, predicted_classes_list)\n",
    "print(\"ViT Classification Report:\\n\", report)\n",
    "\n",
    "conf_mat = confusion_matrix(labels_list, predicted_classes_list)\n",
    "print(\"ViT Confusion Matrix:\\n\", conf_mat)"
   ]
  },
  {
   "cell_type": "markdown",
   "metadata": {},
   "source": [
    "# Ensemble"
   ]
  },
  {
   "cell_type": "code",
   "execution_count": 25,
   "metadata": {},
   "outputs": [],
   "source": [
    "def predict_ensemble(images_inception, images_vit):\n",
    "    images_inception, images_vit = images_inception.to(device), images_vit.to(device)\n",
    "    \n",
    "    # Ensure both batches have the same size\n",
    "    batch_size = min(images_inception.shape[0], images_vit.shape[0])\n",
    "    images_inception = images_inception[:batch_size]\n",
    "    images_vit = images_vit[:batch_size]\n",
    "    \n",
    "    output_inception = model_inception(images_inception)\n",
    "    if isinstance(output_inception, tuple):\n",
    "        output_inception = output_inception[0]  # Select the primary output\n",
    "    output_vit = model_vit(images_vit)\n",
    "    \n",
    "    # Calculate weighted average (example weights: 0.6 for Inception, 0.4 for ViT)\n",
    "    weights = [0.6, 0.4]\n",
    "    output_inception_softmax = torch.nn.functional.softmax(output_inception, dim=1)\n",
    "    output_vit_softmax = torch.nn.functional.softmax(output_vit, dim=1)\n",
    "    \n",
    "    output = weights[0] * output_inception_softmax + weights[1] * output_vit_softmax\n",
    "    \n",
    "    return torch.argmax(output, dim=1)\n",
    "\n",
    "class_names = ['early_blight', 'healthy', 'late_blight']\n",
    "predicted_classes_list = []\n",
    "labels_list = []\n",
    "\n",
    "# Example usage with aligned batches\n",
    "test_loader_inception_iter = iter(test_loader_inception)\n",
    "test_loader_vit_iter = iter(test_loader_vit)\n",
    "\n",
    "for _ in range(len(test_loader_inception)):\n",
    "    images_inception, labels_inception = next(test_loader_inception_iter)\n",
    "    images_vit, labels_vit = next(test_loader_vit_iter)\n",
    "    \n",
    "    predicted_classes = predict_ensemble(images_inception, images_vit)\n",
    "    \n",
    "    # Append predictions and labels to lists\n",
    "    predicted_classes_list.extend(predicted_classes.cpu().numpy())\n",
    "    labels_list.extend(labels_inception.cpu().numpy())\n",
    "    "
   ]
  },
  {
   "cell_type": "markdown",
   "metadata": {},
   "source": [
    "# Evaluation Metrics"
   ]
  },
  {
   "cell_type": "code",
   "execution_count": 26,
   "metadata": {},
   "outputs": [
    {
     "name": "stdout",
     "output_type": "stream",
     "text": [
      "Accuracy: 0.9766666666666667\n",
      "Classification Report:\n",
      "               precision    recall  f1-score   support\n",
      "\n",
      "           0       0.96      1.00      0.98       100\n",
      "           1       1.00      0.93      0.96       100\n",
      "           2       0.97      1.00      0.99       100\n",
      "\n",
      "    accuracy                           0.98       300\n",
      "   macro avg       0.98      0.98      0.98       300\n",
      "weighted avg       0.98      0.98      0.98       300\n",
      "\n",
      "Confusion Matrix:\n",
      " [[100   0   0]\n",
      " [  4  93   3]\n",
      " [  0   0 100]]\n"
     ]
    }
   ],
   "source": [
    "accuracy = accuracy_score(labels_list, predicted_classes_list)\n",
    "print(f\"Accuracy: {accuracy}\")\n",
    "\n",
    "# Compute classification report\n",
    "report = classification_report(labels_list, predicted_classes_list)\n",
    "print(\"Classification Report:\\n\", report)\n",
    "\n",
    "# Compute confusion matrix\n",
    "conf_mat = confusion_matrix(labels_list, predicted_classes_list)\n",
    "print(\"Confusion Matrix:\\n\", conf_mat)"
   ]
  }
 ],
 "metadata": {
  "kaggle": {
   "accelerator": "none",
   "dataSources": [
    {
     "databundleVersionId": 422313,
     "sourceId": 13277,
     "sourceType": "competition"
    },
    {
     "datasetId": 1562973,
     "sourceId": 2574068,
     "sourceType": "datasetVersion"
    },
    {
     "datasetId": 3476702,
     "sourceId": 6073860,
     "sourceType": "datasetVersion"
    }
   ],
   "dockerImageVersionId": 30918,
   "isGpuEnabled": false,
   "isInternetEnabled": true,
   "language": "python",
   "sourceType": "notebook"
  },
  "kernelspec": {
   "display_name": "Python 3 (ipykernel)",
   "language": "python",
   "name": "python3"
  },
  "language_info": {
   "codemirror_mode": {
    "name": "ipython",
    "version": 3
   },
   "file_extension": ".py",
   "mimetype": "text/x-python",
   "name": "python",
   "nbconvert_exporter": "python",
   "pygments_lexer": "ipython3",
   "version": "3.10.12"
  }
 },
 "nbformat": 4,
 "nbformat_minor": 4
}
